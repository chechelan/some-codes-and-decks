{
 "cells": [
  {
   "cell_type": "code",
   "execution_count": null,
   "metadata": {},
   "outputs": [],
   "source": [
    "import re\n",
    "a='abcd-*33'\n",
    "b=re.findall('abc', a) \n",
    "print (b)"
   ]
  },
  {
   "cell_type": "code",
   "execution_count": null,
   "metadata": {},
   "outputs": [],
   "source": [
    "# [] 用来表示一个字符集 \n",
    "s = \"a123456b\"\n",
    "rule = \"a[1-9][1-6][1-6][1-6][1-6][1-6]b\"\t#这里暂时先用这种麻烦点的方法，后面有更容易的，不用敲这么多[1-6]\n",
    "l = re.findall(rule,s)\n",
    "print(l)"
   ]
  },
  {
   "cell_type": "code",
   "execution_count": null,
   "metadata": {},
   "outputs": [],
   "source": [
    "#[] 用来表示一个范围\n",
    "s = \"abcabcaccaac\"\n",
    "rule = \"a[a,b,c]c\"  # rule = \"a[a-z0-9][a-z0-9][a-z0-9][a-z0-9]c\"\t\n",
    "l = re.findall(rule, s)\n",
    "print(l)"
   ]
  },
  {
   "cell_type": "code",
   "execution_count": null,
   "metadata": {},
   "outputs": [],
   "source": [
    "#[] 单纯表示括号内字符"
   ]
  },
  {
   "cell_type": "code",
   "execution_count": null,
   "metadata": {},
   "outputs": [],
   "source": [
    "# ^ 行首。$ tail \n",
    "print(re.findall(\"^bbca\", \"bbcabcabc\")) \n"
   ]
  },
  {
   "cell_type": "code",
   "execution_count": null,
   "metadata": {},
   "outputs": [],
   "source": [
    "# \\d [0,9]\n",
    "\n",
    "print (re.findall('a\\d\\d','a33b44a77'))"
   ]
  },
  {
   "cell_type": "code",
   "execution_count": null,
   "metadata": {},
   "outputs": [],
   "source": [
    "#  \\ 转义成为普通字符 \n",
    "\n",
    "print (re.findall('\\^aa','^aab^aa'))"
   ]
  },
  {
   "cell_type": "code",
   "execution_count": null,
   "metadata": {},
   "outputs": [],
   "source": [
    "# \\s 匹配任何空白字符 \n",
    "print (re.findall('\\s','a b c'))"
   ]
  },
  {
   "cell_type": "code",
   "execution_count": null,
   "metadata": {},
   "outputs": [],
   "source": [
    "# \\w 匹配任何字母数字下划线 [a-zA-Z0-9]\n",
    "print(re.findall('\\w\\w','b789ccd'))"
   ]
  },
  {
   "cell_type": "code",
   "execution_count": null,
   "metadata": {},
   "outputs": [],
   "source": [
    "# {n} 表示匹配的次数 \n",
    "print (re.findall('\\w{3}','b89yydssss'))"
   ]
  },
  {
   "cell_type": "code",
   "execution_count": null,
   "metadata": {},
   "outputs": [],
   "source": [
    "# * 匹配零次或者多次 \n",
    "\n",
    "print (re.findall('\\d*','123456a'))"
   ]
  },
  {
   "cell_type": "code",
   "execution_count": null,
   "metadata": {},
   "outputs": [],
   "source": [
    "# + 匹配一次或者多次 \n",
    "\n",
    "print (re.findall('\\d+','1234444'))"
   ]
  },
  {
   "cell_type": "code",
   "execution_count": null,
   "metadata": {},
   "outputs": [],
   "source": [
    "# . 操作除了变行以外的任何字符 \n",
    "# ？ 匹配一次或者零次 \n",
    "# {m,n}"
   ]
  },
  {
   "cell_type": "code",
   "execution_count": null,
   "metadata": {},
   "outputs": [],
   "source": [
    " s = \"010-123456789\"\n",
    " rule = \"010-\\d*\"\n",
    " rule_compile = re.compile(rule) #返回一个对象\n",
    " # print(rule_compile)\n",
    " s_compile = rule_compile.findall(s)\n",
    " print(s_compile)\t#打印compile()返回的对象是什么   \n"
   ]
  },
  {
   "cell_type": "code",
   "execution_count": null,
   "metadata": {},
   "outputs": [],
   "source": [
    "help(re)"
   ]
  },
  {
   "cell_type": "markdown",
   "metadata": {},
   "source": [
    " ## link \n",
    "    ##https://edu.csdn.net/course/detail/5682?utm_medium=distribute.pc_relevant_t0.none-task-course-2%7Edefault%7EOPENSEARCH%7Edefault-1.essearch_pc_relevant&depth_1-utm_source=distribute.pc_relevant_t0.none-task-course-2%7Edefault%7EOPENSEARCH%7Edefault-1.essearch_pc_relevant"
   ]
  },
  {
   "cell_type": "code",
   "execution_count": null,
   "metadata": {},
   "outputs": [],
   "source": [
    "正则模块 \n",
    "pandas模块  (data wrangling, data analysis)  \n",
    "\n",
    "loop (for, while)\n",
    "if, elif  \n"
   ]
  },
  {
   "cell_type": "code",
   "execution_count": null,
   "metadata": {},
   "outputs": [],
   "source": []
  }
 ],
 "metadata": {
  "kernelspec": {
   "display_name": "Python 3",
   "language": "python",
   "name": "python3"
  },
  "language_info": {
   "codemirror_mode": {
    "name": "ipython",
    "version": 3
   },
   "file_extension": ".py",
   "mimetype": "text/x-python",
   "name": "python",
   "nbconvert_exporter": "python",
   "pygments_lexer": "ipython3",
   "version": "3.8.3"
  }
 },
 "nbformat": 4,
 "nbformat_minor": 4
}
