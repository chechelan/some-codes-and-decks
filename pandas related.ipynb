{
 "cells": [
  {
   "cell_type": "markdown",
   "metadata": {},
   "source": [
    "pandas "
   ]
  },
  {
   "cell_type": "code",
   "execution_count": null,
   "metadata": {},
   "outputs": [],
   "source": [
    "import pandas as pd "
   ]
  },
  {
   "cell_type": "code",
   "execution_count": null,
   "metadata": {},
   "outputs": [],
   "source": [
    "8/5"
   ]
  },
  {
   "cell_type": "code",
   "execution_count": null,
   "metadata": {},
   "outputs": [],
   "source": [
    "8//5"
   ]
  },
  {
   "cell_type": "code",
   "execution_count": null,
   "metadata": {},
   "outputs": [],
   "source": [
    "17%3 ##operator % intend to get the ramainder (余数)"
   ]
  },
  {
   "cell_type": "code",
   "execution_count": null,
   "metadata": {
    "scrolled": true
   },
   "outputs": [],
   "source": [
    "2**3 #powers "
   ]
  },
  {
   "cell_type": "markdown",
   "metadata": {},
   "source": [
    "#### the latest result will be stored in _ \n",
    "price =100\n",
    "100*0.06\n",
    "price+ _ \n",
    "round (_,2)"
   ]
  },
  {
   "cell_type": "code",
   "execution_count": null,
   "metadata": {},
   "outputs": [],
   "source": [
    "'doesn\\'t'"
   ]
  },
  {
   "cell_type": "code",
   "execution_count": null,
   "metadata": {
    "scrolled": true
   },
   "outputs": [],
   "source": [
    "'doesn't' # \\ is used to tell python this is not a quote "
   ]
  },
  {
   "cell_type": "code",
   "execution_count": null,
   "metadata": {},
   "outputs": [],
   "source": [
    "# single quotes and double quotes, single and double can be matched to use, if one happen twice , then we use \\ to distinguish"
   ]
  },
  {
   "cell_type": "code",
   "execution_count": null,
   "metadata": {},
   "outputs": [],
   "source": [
    "'first line. \\n second line'"
   ]
  },
  {
   "cell_type": "code",
   "execution_count": null,
   "metadata": {},
   "outputs": [],
   "source": [
    "print ('first lin. \\n second line') #\\n to produce a new line, print() can produce more readable lines "
   ]
  },
  {
   "cell_type": "code",
   "execution_count": null,
   "metadata": {},
   "outputs": [],
   "source": [
    "'''...'''\n",
    "\"\"\"...\"\"\"\n",
    "\n"
   ]
  },
  {
   "cell_type": "code",
   "execution_count": null,
   "metadata": {},
   "outputs": [],
   "source": [
    "#stings can be repeated by * , and strings can be glued by +\n",
    "\n",
    "p=2*'ss'+'ad'\n",
    "print(p)"
   ]
  },
  {
   "cell_type": "code",
   "execution_count": null,
   "metadata": {},
   "outputs": [],
   "source": [
    "'py'+'thon'\n",
    "\n",
    "'py' 'thon' # be concatenated automatically "
   ]
  },
  {
   "cell_type": "code",
   "execution_count": null,
   "metadata": {},
   "outputs": [],
   "source": [
    "#strins can be indexed\n",
    "text = 'this is a test' \n",
    "text[6]"
   ]
  },
  {
   "cell_type": "code",
   "execution_count": null,
   "metadata": {},
   "outputs": [],
   "source": [
    "text [0:4]"
   ]
  },
  {
   "cell_type": "code",
   "execution_count": null,
   "metadata": {},
   "outputs": [],
   "source": [
    "text[:4]"
   ]
  },
  {
   "cell_type": "code",
   "execution_count": null,
   "metadata": {},
   "outputs": [],
   "source": [
    "s='python'\n",
    "len(s) ## built-in function len() can be used to calculate the length "
   ]
  },
  {
   "cell_type": "code",
   "execution_count": null,
   "metadata": {},
   "outputs": [],
   "source": [
    "str.format(s)"
   ]
  },
  {
   "cell_type": "code",
   "execution_count": null,
   "metadata": {},
   "outputs": [],
   "source": [
    "lst=[1,2,3,4,5]"
   ]
  },
  {
   "cell_type": "code",
   "execution_count": null,
   "metadata": {},
   "outputs": [],
   "source": [
    "a,b=1,1\n",
    "while a<10:\n",
    "    print(a)\n",
    "    a,b=a+b, b"
   ]
  },
  {
   "cell_type": "code",
   "execution_count": null,
   "metadata": {},
   "outputs": [],
   "source": [
    "# more control flow tools \n",
    "if a<0:\n",
    "    print(a)\n",
    "elif a==0:\n",
    "    print (a)\n",
    "else:\n",
    "    print(b)"
   ]
  },
  {
   "cell_type": "code",
   "execution_count": null,
   "metadata": {},
   "outputs": [],
   "source": [
    "words=['foundation','waterylotion','serum']\n",
    "for w in words:\n",
    "    print(w,len(w))"
   ]
  },
  {
   "cell_type": "code",
   "execution_count": null,
   "metadata": {},
   "outputs": [],
   "source": [
    "# Strategy:  Iterate over a copy\n",
    "for user, status in users.copy().items():\n",
    "    if status == 'inactive':\n",
    "        del users[user]"
   ]
  },
  {
   "cell_type": "code",
   "execution_count": null,
   "metadata": {},
   "outputs": [],
   "source": [
    "range(10)"
   ]
  },
  {
   "cell_type": "code",
   "execution_count": null,
   "metadata": {},
   "outputs": [],
   "source": [
    "list(range(10))"
   ]
  },
  {
   "cell_type": "code",
   "execution_count": null,
   "metadata": {},
   "outputs": [],
   "source": [
    "sum(range(10))"
   ]
  },
  {
   "cell_type": "code",
   "execution_count": null,
   "metadata": {},
   "outputs": [],
   "source": [
    "## to identify prime number \n",
    "for n in range(2, 10):\n",
    "    for x in range(2, n):\n",
    "        if n % x == 0:\n",
    "            print(n, 'equals', x, '*', n//x)\n",
    "            break\n",
    "    else:\n",
    "        # loop fell through without finding a factor\n",
    "        print(n, 'is a prime number')"
   ]
  },
  {
   "cell_type": "code",
   "execution_count": null,
   "metadata": {},
   "outputs": [],
   "source": [
    "for number in range(2,10):\n",
    "    if number%2 ==0:\n",
    "        print('even number', number)\n",
    "        continue\n",
    "    print('odd number', number)"
   ]
  },
  {
   "cell_type": "code",
   "execution_count": null,
   "metadata": {},
   "outputs": [],
   "source": [
    "while True:\n",
    "    pass"
   ]
  },
  {
   "cell_type": "code",
   "execution_count": null,
   "metadata": {},
   "outputs": [],
   "source": [
    "def fib(n):    # write Fibonacci series up to n\n",
    "    \"\"\"Print a Fibonacci series up to n.\"\"\"\n",
    "    a, b = 0, 1\n",
    "    while a < n:\n",
    "        print(a, end=' ')\n",
    "        a, b = b, a+b\n",
    "    print()"
   ]
  },
  {
   "cell_type": "code",
   "execution_count": null,
   "metadata": {},
   "outputs": [],
   "source": [
    "fib(20)"
   ]
  },
  {
   "cell_type": "code",
   "execution_count": null,
   "metadata": {},
   "outputs": [],
   "source": [
    "f=fib\n",
    "f(30)"
   ]
  },
  {
   "cell_type": "code",
   "execution_count": null,
   "metadata": {},
   "outputs": [],
   "source": [
    "def f(a, L=[]):\n",
    "    L.append(a)\n",
    "    return L"
   ]
  },
  {
   "cell_type": "code",
   "execution_count": null,
   "metadata": {},
   "outputs": [],
   "source": [
    "f(10)"
   ]
  },
  {
   "cell_type": "code",
   "execution_count": null,
   "metadata": {},
   "outputs": [],
   "source": [
    "def cheeseshop(kind, *arguments, **keywords):\n",
    "    print(\"-- Do you have any\", kind, \"?\")\n",
    "    print(\"-- I'm sorry, we're all out of\", kind)\n",
    "    for arg in arguments:\n",
    "        print(arg)\n",
    "    print(\"-\" * 40)  ## a seperate line \n",
    "    for kw in keywords:\n",
    "        print(kw, \":\", keywords[kw])"
   ]
  },
  {
   "cell_type": "code",
   "execution_count": null,
   "metadata": {},
   "outputs": [],
   "source": [
    "cheeseshop(\"Limburger\", \"It's very funny, sir.\",\n",
    "           \"It's really very, VERY funny, sir.\",\n",
    "           shopkeeper=\"Michael Palin\",\n",
    "           client=\"John Cleese\",\n",
    "           sketch=\"Cheese Shop Sketch\")"
   ]
  },
  {
   "cell_type": "code",
   "execution_count": null,
   "metadata": {},
   "outputs": [],
   "source": [
    "def fight(kind, *arguments, **keywords):  ##arguments can be defined by position or keyword\n",
    "    print(\"-- Do you have any\", kind, \"?\")\n",
    "    print(\"-- I'm sorry, we're all out of\", kind)\n",
    "    for arg in arguments:\n",
    "        print(arg)\n",
    "    print(\"-\" * 40)  ## a seperate line \n",
    "    for kw in keywords:\n",
    "        print(kw, \":\", keywords[kw])"
   ]
  },
  {
   "cell_type": "code",
   "execution_count": null,
   "metadata": {},
   "outputs": [],
   "source": [
    "fight(\"brain\",\"stupid\",\n",
    "     \"f***k\",\n",
    "     smart=\"cherie\",\n",
    "     stupid=\"ss\")"
   ]
  },
  {
   "cell_type": "code",
   "execution_count": null,
   "metadata": {},
   "outputs": [],
   "source": [
    "writeargument(pos1, pos2, / ,*,  ) ## before /(forward slash) arguments are position-only\n",
    "\n",
    "## after * is the keyword-only arguments "
   ]
  },
  {
   "cell_type": "code",
   "execution_count": null,
   "metadata": {},
   "outputs": [],
   "source": [
    "lambda expressions  "
   ]
  },
  {
   "cell_type": "code",
   "execution_count": null,
   "metadata": {},
   "outputs": [],
   "source": [
    "import math\n"
   ]
  },
  {
   "cell_type": "code",
   "execution_count": null,
   "metadata": {},
   "outputs": [],
   "source": [
    "dir(math)"
   ]
  },
  {
   "cell_type": "code",
   "execution_count": null,
   "metadata": {},
   "outputs": [],
   "source": [
    "import cmath\n",
    "dir(cmath)"
   ]
  },
  {
   "cell_type": "code",
   "execution_count": null,
   "metadata": {},
   "outputs": [],
   "source": [
    "import cmath as cm \n",
    "cm.log(10)"
   ]
  },
  {
   "cell_type": "code",
   "execution_count": null,
   "metadata": {},
   "outputs": [],
   "source": [
    "# numbers=[1,2,3,4,5,6,7]\n",
    "# even=[]\n",
    "# odd=[]\n",
    "# i=0\n",
    "# while i in numbers:\n",
    "#     if i%2==0:\n",
    "#         even.append(numbers)\n",
    "#     else:\n",
    "#         odd.append(numbers)\n",
    "\n",
    "numbers = [1,2,3,4,5,6,7]\n",
    "even=[]\n",
    "odd=[]\n",
    "for i in numbers : \n",
    "    if i%2==0:\n",
    "        even.append(numbers)\n",
    "#     elif:\n",
    "#         odd.append(numbers)\n",
    "print(even)"
   ]
  },
  {
   "cell_type": "code",
   "execution_count": null,
   "metadata": {},
   "outputs": [],
   "source": [
    "/user/bin/python"
   ]
  },
  {
   "cell_type": "code",
   "execution_count": null,
   "metadata": {},
   "outputs": [],
   "source": [
    "i=0\n",
    "while (i<10):\n",
    "    if i%2==0\n",
    "    print(i, 'is even')\n",
    "    i=i+1\n"
   ]
  },
  {
   "cell_type": "code",
   "execution_count": null,
   "metadata": {},
   "outputs": [],
   "source": [
    "i = 0\n",
    "while(i<10):   \n",
    "    i += 1\n",
    "    if i%2 > 0:     # 非双数时跳过输出\n",
    "        continue\n",
    "    print (i)        # 输出双数2、4、6、8、10"
   ]
  },
  {
   "cell_type": "code",
   "execution_count": null,
   "metadata": {},
   "outputs": [],
   "source": [
    "i = 0\n",
    "while(i<10):   \n",
    "    i += 1\n",
    "    if i%2 > 0:     # 非双数时跳过输出\n",
    "        continue\n",
    "    print (i,'is the number')        # 输出双数2、4、6、8、10"
   ]
  },
  {
   "cell_type": "code",
   "execution_count": null,
   "metadata": {
    "scrolled": true
   },
   "outputs": [],
   "source": [
    "import numpy as np\n",
    "dir(np)"
   ]
  },
  {
   "cell_type": "code",
   "execution_count": null,
   "metadata": {},
   "outputs": [],
   "source": [
    "f.zeros_like()"
   ]
  },
  {
   "cell_type": "code",
   "execution_count": null,
   "metadata": {},
   "outputs": [],
   "source": [
    "import pandas as pd\n",
    "dir(pd)"
   ]
  },
  {
   "cell_type": "code",
   "execution_count": null,
   "metadata": {},
   "outputs": [],
   "source": [
    "python -V"
   ]
  },
  {
   "cell_type": "code",
   "execution_count": null,
   "metadata": {},
   "outputs": [],
   "source": [
    "def max(a,b):  ## udf arguments \n",
    "    if a>b:\n",
    "        return a \n",
    "    else:\n",
    "        return b ## udf statements"
   ]
  },
  {
   "cell_type": "code",
   "execution_count": null,
   "metadata": {},
   "outputs": [],
   "source": [
    "max(3,4)"
   ]
  },
  {
   "cell_type": "code",
   "execution_count": null,
   "metadata": {},
   "outputs": [],
   "source": [
    "y=max(a,b)"
   ]
  },
  {
   "cell_type": "code",
   "execution_count": null,
   "metadata": {},
   "outputs": [],
   "source": [
    "y(1,2)"
   ]
  },
  {
   "cell_type": "code",
   "execution_count": null,
   "metadata": {},
   "outputs": [],
   "source": [
    "def max(a,b):  ## udf arguments \n",
    "    if a>b:\n",
    "        return print(a,'is the number')\n",
    "    else:\n",
    "        return print(b, 'is the number') ## udf statements"
   ]
  },
  {
   "cell_type": "code",
   "execution_count": null,
   "metadata": {},
   "outputs": [],
   "source": [
    "max(10,11)"
   ]
  },
  {
   "cell_type": "code",
   "execution_count": null,
   "metadata": {},
   "outputs": [],
   "source": [
    "import pandas \n",
    "pandas.path"
   ]
  },
  {
   "cell_type": "code",
   "execution_count": null,
   "metadata": {},
   "outputs": [],
   "source": [
    "import sys\n",
    "sys.path"
   ]
  },
  {
   "cell_type": "code",
   "execution_count": null,
   "metadata": {},
   "outputs": [],
   "source": [
    "import re"
   ]
  },
  {
   "cell_type": "code",
   "execution_count": null,
   "metadata": {},
   "outputs": [],
   "source": [
    "dir()"
   ]
  },
  {
   "cell_type": "code",
   "execution_count": null,
   "metadata": {},
   "outputs": [],
   "source": [
    "re.match (pattern, string, flags=0 ) ## pattern匹配的正则表达式 ， string 是要匹配的内容 "
   ]
  },
  {
   "cell_type": "code",
   "execution_count": null,
   "metadata": {},
   "outputs": [],
   "source": [
    "re.match \n",
    "re.search () \n"
   ]
  },
  {
   "cell_type": "code",
   "execution_count": null,
   "metadata": {},
   "outputs": [],
   "source": [
    "# coding=utf-8\n",
    "import re\n",
    "import pandas as pd\n",
    "from multiprocessing import Pool"
   ]
  },
  {
   "cell_type": "code",
   "execution_count": null,
   "metadata": {},
   "outputs": [],
   "source": [
    "re_string='(bearbrick|暴力熊|爱马仕|hermes|levi|李维斯|levis|marquesalmeida|matthew williamson|马修威廉姆森|paul smith|保罗史密斯|rhude|stussy|斯图西|tods|tom ford|汤姆福特|toteme|airblaster|alpina|athalon|black diamond|dakine|dalbello|dare 2b|descente|eisbar|elevenate|fischer|flylow|foresake|giro|head|helly hansen|high sierra|hot chillys|icebreaker|kamik|kari traa|kastle|komperdell|kulkea|lange|laundromat|leki|liberty|marker|marmot|masters|moose knuckles|mountain hardwear|nils|nordica|norrona|obermeyer|osprey|pajar|picture|a bathing ape|bape|a f vandervorst|afvandevorst|a kind of guise|a la garçonne|a la garconne|a plan application|a shirt thing|aaizel|aalto|aape|aarmy|abbeyhorn|abra|abrams|absidem|abysse|acheval pampa|ack|acler|acne studios|acoldwall|acw|acoldwar|acronym|act acre|act n1|acura|讴歌|adam lippes|adam selman|adaptation|ader|ader error|adererror|adidas originals|三叶草|adidas|adidas|阿迪达斯|阿迪|adieu paris|adina reyter|adipeau|adkv|acme de la vie|adriana degreas|adsum|advisory board crystals|aeron|aesop|伊索|aesther ekme|aethic|aeyde|affix|african botanics|afroditi hera|ag jeans|aganovich|agent nateur|agent provocateur|agl|agnelle|agnes b|agnona|agolde|agr|ahlem|ahnah|aidan mattox|aigle|aime leon dore|aion|aje|akansha sethi|akira naka|akris|akris punto|alaia|alain mikli|alala|alan crocetti|alanui|albam|albano|alberta ferretti|alberto biani|alberto fasciani|alberto gozzi|album di famiglia|albus lumen|alc|alcacuz|alchemist|alchemy|alchimia di ballin|aldomariacamillo|aleksander siradekian|aleksandre akhalkatsishvili|alessandra rich|alessandro enriquez|alessi|alevi|alex mill|alex monroe|alex perry|alex streeter|alexa chung|alexa wagner|alexachung|alexandra golovanoff|alexandra jefford|alexandre birman|alexandre vauthier|alexis|alexis mabille|algenist|alice archer|alice cicolini|alice made this|alice mccall|alice waese|alicolivia|alienina|alighieri|aliita|alila|alinka|alison lou|alix nyc|all access|all blues|all things mochi|alledmartinez|allies of skin|allthemust|allude|ally capellino|almaz|alo yoga|aloye|alpha industries|alpina|alps mountaineering|altea|altra|altuzarra|aluf|alvaro|always|爱驰|alysi|amalgam collection|amanda harrington|amanda lacey|amanda wakeley|amapo|ambra maddalena|ambush|amelie pichard|amen|amen candles|ami amalia|ami paris|amina muaddi|amir slama|amiri|amo|amonster|amrapali|amur|amy jean brows|ana khouri|anaak|ananya|anapsara|anatome|anb|ancienbrave|ancient greek sandals|and wander|andamane|anderson sheppard|andersson bell|andrea bogosian|andrea crews|andrea fohrman|andrea gomez|andrea iyamah|andrea marques|andrew gn|andy lif|andy wolf|anemone|anemos|angel chen|陈安琪|angela caglia|anglepoise|anine bing|anissa kermiche|anita berisha|anita ko|anjuna|anke drechsel|ann demeulemeester|anna baiguera|anna karin karlsson|anna karlin|anna mason|anna october|anna sui|安娜苏|anta|安踏|anthony vaccarello|anti social|assc|antisocial|antica farmacista|antik batik|anton heunis|antonella rizza|antonelli|antonia zander|antonino valenti|antonio barbato|antonio berardi|antonio berardi vintage|antonio bernardo|antonio marras|anya hindmarch|anzie|apc|aperlai|apiece apart|apl athletic propulsion labs|apm monaco|apparis|apples figs|apuntob|aquatalia|aquazzura|aragona|araks|aranaz|arch4|arcteryx|area|argentum apothecary|欧臻廷|ariana boussard|arias|aries|arizona love|arkk|arma|armada|armani exchange|armani|阿玛尼|armor lux|aromatherapy associates|art school|artclub|artel|artica arbox|artis brush|as29|as65|asai|asceno|ash|asherali knopfer|ashish|ashley williams|asics|亚瑟士|onisuka|鬼冢虎|aspesi|asprey|assouline|astley clarke|astrid andersen|atalaye|atelier swarovski|atlantic stars|atlantique ascoli|atm anthony thomas melillo|atoir|atomic|atp atelier|attempt|atu body couture|au depart|au jour le jour|audemars piguet|audi|奥迪|augustinus bader|auralee|aurelia probiotic skincare|aurelie bidermann|autry|autumn cashmere|ava adore|avant toi|avaro figlio|avavav|avec moderation|avelon|aventon|aviteur|awake mode|axel arigato|axenoff jewellery|aytm|az factory|azlee|aztech mountain|azzaro|azzi osta|backes strauss|bacon|badgley mischka|baffin|baggins|bakari|baldinini|balenciaga|巴黎世家|ballantyne|ballantyne vintage|bally|巴利|balmain|巴尔曼|balossa white shirt|bambah|bamford|bang olufsen|bao bao issey miyake|bao bao|三宅一生|baojun|宝骏|baolong|宝龙|bape|bathing ape|安逸猿|bar jewellery|baracuta|barba|barbara bologna|barbara bui|barbara casasola|barbour|barena|barrie|barrow|barton perreira|baserange|bassike|batsheva|baum und pferdgarten|baume|baume mercier|baxter of california|bayco|bazar deluxe|bbb london|be blumarine|bea bongiasca|beach riot|beams|beaster|beau souci|beaufille|bec bridge|beglow|begum khan|bell ross|bella freud|belle et bon bon|bellerby co globemakers|bellerose|belstaff|belusso|belysa|benedetta bruzziches|bennett winch|bentley|宾利|benz|奔驰|berg berg|bering|berluti|bernadette|bernhard willhelm|berwich|besfxxk|best made company|beth richards|bethany williams|bevza|beyond yoga|bgbl|bi494|bibi van der velden|bienen davis|big agnes|bigi|bill blass vintage|billionaire boys club|bbc|亿万少年俱乐部|billionaireboysclub|bina goenka|bioeffect|birdwell|birkenstock|birkenstock 1774|biro|bisu|比速|bite studios|bitossi ceramiche|biyan|bj auto|北汽|black brown|black coral|black crows|black diamond|black halo|blackmeans|blanca vita|blancha|blauer|blaze milano|bleu de chauffe|bleue burnham|blind barber|blindness|blizzard|blood brother|bloody mary|blouse|blow the belt|blue bird shoes|blue blue japan|blugirl|blumarine|bmw|宝马|boaz kashi|bode|bodega| bodega|bodyism|boghossian|boglioli|bogner|bogner firice|bohinc studio|boldrini selleria|bolin webb|bolon|bonastre|bondeye jewelry|bondi born|bonpoint|bonvo|boon the shop|bordelle|borgo de nor|borgward|宝沃|boris bidjan saberi|borsalino|boss|博斯|boteh|both|botier|bottega veneta|bv|葆蝶家|botto giuseppe|boucheron|bougeotte|bouguessa|bound|bounkit jewelry|bovet|bowers wilkins|boy smells|boyarovskaya|boyish denim|boyy|bragwette|brain dead|脑死亡|brandon maxwell|braun watches|breguet|breitling|bremont|brigitte|briko|brinker eliza|briogeo|brioni|briston watches|brock collection|brocken bow|brognano|brooke gregson|brooks|brooks england|brother vellies|browns|brumal|brumani|brunello cucinelli|bruno bordese|bruno manetti|bsh|buccellati|布契拉提|buddha mama|buffalo|bugatti|布加迪|buick|别克|building block|bula|bulgari|bvlgari|宝格丽|buly 1803|bunney|burberry|巴宝莉|博柏利|burton|buscemi|buttero|bwl|bill wall leather|by alona|by any other name|by fang|by far|by japan|by malene birger|by pariah|by terry|by walid|byd|比亚迪|bynacht|bytimo|c2h4|chemist creations|化学制品|caban|cadar|cadillac|凯迪拉克|cafe du cycliste|cafe kitsune|cafune|caia|cale|calicanto|calle del mar|calpak|calvin klein|ck|大ck|cambio|camelbak|cami nyc|camila klein|camilla|camilla and marc|camoshita|camper|camperlab|canada goose|加拿大鹅|canali|canessa|cannondale|cano|canotwait|capsule eleven|capucci|car shoe|cara cara|cara mila|caramel|caravana|carcel|carel|carhartt wip|carhartt|carine gilson|carine roitfeld parfums|cariuma|carla amorim|carlo moretti|carmen march|carolina bucci|carolina herrera|carolina ritzler|carolina santo domingo|caroline constas|carrera|cartier|卡地亚|caruso|carve designs|carven|carvil|casablanca|卡撒天骄|casadei|casasola|casey casey|cashmere in love|castaner|castore|castro smith|catbird|cav empt| cav empt|cavalli class|cazal|cdg|川久保玲comme des garcons|cdlp|cecchi de rossi|cecilia prado|cecilie bahnsen|cecilie copenhagen|cedric charlier|cefinn|celestron|celia dragouni|celine robert|celine|思琳|cesare paciotti|cesare paciotti 4us|cesta collective|ch carolina herrera|chaco|champion|冠军|chan luu|chanel|香奈儿|changan|长安|changhe|昌河|chantal thomass|chantecaille|chantelle|chaos|charles jeffrey loverboy|charles jourdan|charles keith|小CK|charlott|charlotte chesnais|charlotte knowles|charlotte mensah|charlotte olympia|charlotte tilbury|charms company|charo ruiz|charvet|chasing paper|chaumet|尚美|尚美巴黎|cheaney|chen peng|chen peng|陈鹏|cherevichkiotvichki|chery|奇瑞|chevrolet|雪佛兰|chiara bertani|chiara ferrangi|chiara|chie mihara|chimala|chimi|chinatown market| chinatown market|chinatown|chinti and parker|chirazi|chite|chloe|蔻依|chopard|萧邦|chopova lowena|christian koban|christian lacroix|christian louboutin|红底鞋|christian pellizzari|christian roth|christian siriano|christian stone|christian wijnants|christophe robin|christopher esber|christopher john rogers|christopher kane|chrisuno|chrome hearts|克罗心|chrysler|克莱斯勒|chuckies new york|chufy|church|chuu| chuu|chylak|ciimo|思铭|cinq a sept|cinzia araia|circolo 1901|circumference|circus hotel|cire trudon|citizens of humanity|citroen|雪铁龙|claire goldsmith|clan|clarks originals|claus porto|clergerie|cleverly laundry|clinique for men|cloe cassandro|closed|clot|juice|edison chen|clottee|innersect|陈冠希|clou|club monaco|club ride|clube bossa|coach|蔻驰|coal|coccinelle|coco de mer|code8|colbert md|colette|coliac|college|collina strada|colmar|colombo|columbia|哥伦比亚|colville|comback|come tees|commando|comme des garcons|cdg|play|commedesgarcon|comme moi|commission|common leisure|common projects|commonprojects|complet|completedworks|connolly|converse|匡威|allstar|coohem|coperni|copurs|coqui coqui|cordova|corgi|corkcicle|cornelia webb|cortana|corto moltedo|cos|cosabella|cosmedix|cosmydor|costa brazil|costarellos|cotciel|cotton citizen|coup de coeur|courreges|活希源|cowin|凯翼|cp company| cp company|craft|craghoppers|craig green|crash baggage|creatures of the wind|crocs|克洛驰|cruciani|cubitts|cult|cult gaia|culti milano|curionoir|currentelliott|cushnie|cutler and gross|cutler gross|cvc stones|cynthia rowley|czech speake|d r harris|d1 milano|dacheng|大乘汽车|daily paper|dakine|dal co vintage|dalood|damir doma|dana rebecca designs|daniela gregis|daniela villegas|danielapi|danielle frankel|danielle guizio|danner|dannijo|danse lente|daou|daquini|darkai|david beauciel|david koma|david mallett|david morris|david yurman|de beers|戴比尔斯|de bonne facture|de grisogono|de jaegher|de la vali|de mamiel|de petrillo|deadwood|deakin francis|deborah lippmann|decathlon|迪卡侬|decree|deiji studios|deitas|del carlo|delada|delage|delalle|delfina delettrez|delirious|delpozo|demoo parkchoonmoo|denimist|denis colomb|dents|denza |腾势|department 5|derek lam 10 crosby|derek rose|desa 1972|descente allterrain|designers remix|desmond dempsey|destin|detaj|deuter|deveaux|devialet|devoa|dezso by sara beltrán|diadora|diamond supply|diane kordas|diane von furstenberg|dvf|dianka|电咖|dice kayek|dick moby|dickies|dickies construct|diemme|diesel black gold|diesel red tag|diesel|迪赛|dima leu|dinny hall|dinosaur designs|dion lee|dior|迪奥|克莉丝汀迪奥|diptyque|蒂普提克|discord yohji yamamoto|district vision|divka|dkny|唐可娜儿|dlyp|dmondaine|doctor rogers|dodo|dodo bar or|doen|doers of london|dolce gabbana|杜嘉班纳|dolce vita|dolci follie|domrebel|dondup|dora larsen|dorateymur|dorothee schumacher|double concept|double rainbouu|doublet|doucal|dps skis|dr sebagh|赛贝格|dragon|dragon diffusion|drakes|dries van noten|drole de monsieur|drome|drumohr|dsquared2|d二次方|dubini|ducie|duffy|duffy jewellery|dundas|dunhill|登喜路|duoltd|duran lantink|duro olowu vintage|dusan|duskii|duvetica|dvf diane von furstenberg|dvf|dynastar|dyvna|ea7 emporio armani|eagle creek|earth tu face|eastpak|eberjey|eckhaus latta|ecoalf|ecole de curiosites|ed robert judson|edas|edco|edda|eddie borgo|edeline lee|edie parker|editions milano|edward achour paris|edward bess|edward crutchley|edward green|edwin|eenk|eera|ef collection|eftychia|eg engineer garments| eg engineer garments|egrey|eileen fisher|eisenberg paris|ejing zhang|张嫕婧|elaluz|elan|electric rose|elemis|elena ghisellini|elena iachi|elena makri|eleventy|elhanati|elie saab|elie tahari|elina linardaki|eliou|elisabeth weinstock|elisabetta franchi|elise dray|eliurpi|elixseri|elizabeth arden|伊丽莎白雅顿|elleme|ellery|ellie rassia|ellis mhairi cameron|elsa esturgie|emanuel ungaro|emanuela caruso|emanuele bicocchi|embryolisse|emilia wickstead|emilio pucci|emily wheeler|emma brewin|emma charles|emma willis|emmanuelle khanh|emme parsons|emporio armani|endless joy|enfants riches deprimes|enfold|engineered garments|englon|enshadower|entireworld|envelope1976|epara|epos|equipment|equipment gender fluid|erdem|eres|erika cavallini|erin snow|erl|ermanno ermanno|ermanno gallamini|ermanno scervino|ernest leoty|erno laszlo|奥伦纳素|escada|escada sport|escvdo|eshvi|essentials|fear of god essentials|essentiel antwerp|established sons|esteban cortazar|estelle thild|estile|etienne perret|etnia barcelona|etoile|etre cecile|etro|etudes|eudon choi|eugenia kim|eva|eva fehren|evangelisti world|evarae|eve denim|eve lom|伊芙兰|everus|理念|evi grintela|evisu|exeed|星途|extreme cashmere|eye m by ileana makri|eyeko|eyepetizer|eyevan7285|eytys|eywasouls malibu|fabi|fabiana filippi|fabio rusconi|fabrizio viti|face a face|face halo|facetasm|faherty|faith connexion|faithfull the brand|fakbyfak|fake alpha vintage|faliero sarti|falke|family affair|fannie schiavoni|fantabody|faris|fashion concierge vip|fashion forms|faure le page|faustine steinmetz|fausto puglisi|fauzian jeunesse|favourbrook|favre leuba|faw|一汽|fay|faz not fur|fear of god|fog|fearofgod|fedeli|federica tosi|feidt paris|feiyue|飞跃|大孚飞跃|fella|femmue|fendi|芬迪|fenty|fern fans|fernando jorge|ferrari|法拉利|fete imperiale|fferrone design|fiat|菲亚特|figue|fil de vie|fila|斐乐|filippa k|filles a papa|filling pieces|filson|fine edge|fiona kruger|fiorentini baker|fiorucci|fiorucci|芙蓉天使|fisch|fisico|fizik|fjallraven|flagpole|flagstuff|flamingos|flatlist|fleur du mal|fleur of england|float|floris london|fmacm| fmacm|fob paris|folies by renaud|folk|for love and lemons|ford|福特|foreo|forever 21|forever21|form nutrition|forme dexpression|fornasetti|forte dei marmi couture|forte forte|foton|福田|foundrae|foundwell|fpm milano|fragment design|藤原浩闪电|fragment|藤原浩|frame|frame chain|framed|frances de lourdes|frances prescott|francesco maglia|francesco russo|francoise|frankie shop|frankies bikinis|fratelli rossetti|fred leighton|fred|斐登|frederic malle|frederique constant|freedomday|french girl organics|frenckenberger|frency mercury|frenken|frenzlauer|frescobol carioca|from the road|fruche|fujifilm|fukang|富康|fumito ganryu|furla|芙拉|furling by giani|furstenberg|fusalp|fxxking rabbits|fxxking|fyp|gabriela hearst|gallery dept.|galvan|ganni|gap|盖璞|garcons infideles|garrett leight|gas bijoux|gatti|gauchere|gauge81|gavello|gaydamak|gcds|gedebe|geely|吉利|gemco|gems ncrafts|genanx|genny|gente roma|gentle monster|gentry portofino|geoffrey parker|geometry|几何|georg jensen|george cleverley|george keburia|georgia alice|geox|gestuz|ghd|ghoud|gia couture|giacobino|giada benincasa|giamba|giambattista valli|giancarlo petriglia|gianluca capannolo|giannico|gianvito rossi|gigi burris|gigi burris millinery|gigi clozeau|gilda pearl|gina|ginette|ginger smart|ginori 1735|giorgio armani|ga|阿玛尼|giorgio brato|giorgio grati|girard perregaux|girlfriend collective|girls dont cry|gitman vintage|giuliano galiano|giuliva heritage|giuseppe di morabito|giuseppe zanotti|givenchy|纪梵希|glacce|gleagle|全球鹰|globetrotter|gloria coelho|gloss moderne|gmbh|go barefoot|goat|goen|gold and wood|gold hawk|goldbergh|golden bear|golden goose|goldfaden md|goldsign|golf le fleur|gonow|吉奥|good american|good art hlywd|good news|goodboy|goodfight|goodious|goose tech|goossens|gopro|gosha rubchinskiy|goti|goto| goto|够野|gouverneur audigier|goyard|高得雅|戈雅|grace lee|graf|graf von fabercastell|gramicci|gravati|gray matters|graziela|greatwall|长城|greg lauren|gregory|grenson|greta boldini|greta constantine|grey ant|grey mer|grlfrnd|ground zero|grown alchemist|gshock|g shock|卡西欧|gucci| gucci|古驰|古琦|guess|guidi|guita m|gurhan|gustavo lins|guuka| guuka|gxg|hackett|haculla|haeckels|haffmans neumeister|haider ackermann|haight|haikure|hair rituel by sisley|halfpenny london|halpern|halston|halston heritage|hamilton and hare|hampton sun|handred|hands on design|handvaerk|haney|hanky panky|hannah artwear|hanro|hanz de fuko|harmur|harris wharf london|harris zhu|harry winston|hartford|harwell godfrey|hatch|havaianas|hay|hayley menzies|hebe studio|heidi klein|heimplanet|heir atelier|heist|helle mardahl|hellessy|helly hansen|helmstedt|helmut lang|hemant and nandita|hender scheme|henderson baracco|henrik vibskov|henson|hereu|hermina athens|herno|herno laminar|heroine sport|heron preston|herrlicht|herschel supply co|herve leger|hestra|hidjack|high by claire campbell|hilfiger collection|hirotaka|history repeats|hitec hts74|hm|hogan|hogl|hoka one one|holden|holiday|holifrog|holland holland|hollister|holly dyment|holly ryan|holzpuppe|holzweiler|homme plisse issey miyake|hommegirls|honda|本田|honey fucking dijon|honorine|hood by air|hope|horace|horisaki design handel|horizn studios|horror vacui|horus watch straps|houdini|hourglass|house of holland|house of sunny|hstern|hsu jewellery|htc los angeles|hublot|hudson|huf|hugo boss|雨果博斯|huishan zhang|hum|huma sunglasses|human made|humanmade|human made|人类制造|humanoid|humidity|hunter|hunting season|hunza g|husbands|hvn|hydrogen|hyein seo|hyke|hyt|hyundai|现代|i love mr mittens|i santi vintage|iamchen|iceberg|icebreaker|icons|iconslab| iconslab|ienki ienki|iffley road|iggy|ih nom uh nit|iiuvo|il bussetto|ilapothecary|ilaria nistri|ileana makri|iles formula|ilia|illamasqua|illesteva|imogen belfield|in the mood for love|inbar|incotex|independent|indie lee|indispensable|individual sentiments|indress|infiniti|英菲尼迪|ingie paris|ingorokva|inis meain|ink|innermost|innerraum|innika choo|intoxicated|inuikii|inxx|ioana ciolacu|ioannes|iosselliani|ippolita|irene forte|irene neuwirth|ireneisgood|irina schrotter|iris von arnim|iro|irresistor|isa arfen|isaac reina|isaac sellam experience|isabel benenato|isabel lennse|isabel marant|isabel marant etoile|isabel sanchis|isaia|isla|isolda|issey miyake| issey miyake|三宅一生|isuzu|五十铃|italia independent|ivi|iwc schaffhausen|izzue|j brand|j crew| j crew|jcrew|j koo|jacob cohen|jacque marie mage|jacqueline rabun|jacquemus|jacques marie mage|jacquie aiche|jade trau|jaegerlecoultre|jaguar|捷豹|jaline|james perse|james read|janavi india|janis savitt|japan best|jason markk|jason wu|吴季刚|jaxon lane|jay ahr|jay godfrey|jean atelier|jean fares couture|jean paul gaultier| jean paul gaultier|jean paul knott|jean yu|jeanerica|jeanmichel cazabat|jeep|吉普|jeffrey levinson|jejia|jemma sands|jennifer behr|jennifer chamandi|jennifer fisher|jennifer meyer|jenny packham|jeremy scott|jerôme dreyfuss|jessica mccormack|jessie western|jetta|捷达|ji oh|jia jia|jil sander|jil sander navy|jimmy choo|jitrois|jnby| 江南布衣|jo loves|jo malone|祖马龙|祖玛珑|joanna laura constantine|joanna vargas|joëlle jewellery|johanna ortiz|john elliott|john hardy|john lobb|john richmond|john smedley|johnstons of elgin|jonathan simkhai|jonway|永源|joostricot|jordache|jordan|乔丹|aj|air jordan|空中飞人|jorg hysek|josef miller|joseph|joshua sanders|josie natori|josie natori couture|joslin|jourden|journelle|jovani|jovonna|joya|jr|jrs|juan carlos obando|judith leiber|juicy couture|juillet|julia davidian|julien david|julien farel|julius|junghans|junya watanabe|jupe by jackie|just cavalli|just don| just don|justdon|juun.j|jvdf|jw anderson|jwanderson|kalda|kaleos|kalita|kame mannen|kanghyuk|kangol|kapital|kappa|背靠背|卡帕|kara|karen chekerdjian studio|karen walker|karen wazen|karl lagerfeld|老佛爷|karllagerfeld|karla colletto|kask|kassl editions|kasun london|kat burki|kat kim|kate cate|kate spade|凯特丝蓓|katerina makriyianni|katharine hamnett london|katheleys vintage|katherine hamilton|katherine jetter|katia alpha|katkim|kaws|kay konecna|kayo|kayu|keds|keen|keepsake the label|kelty|kendalkylie|kenneschmenger|kenneth jay lane|kenneth jay lane vintage|kenzo|凯卓|高田贤三|kerahealth|kevyn aucoin|khaite|khaore|khiry fine|khrisjoy|kia|起亚|kiini|kiki de montparnasse|kiko kostadinov|kikokostadinov|killwinner|kiltie|kimai|kimberly mcdonald|kimhekim|king baby|king tuckfield|kingsman|kirin|kirk originals|kismet by milka|kith| kith|kiton|kjaer weis|kjus|kjus golf|klättermusen|knott|koche|koenigsegg|柯尼赛格|koio|kolor|kooreloo|kora organics|koral|kosas|kris goyri|krish| krish|kristensen du nord|kristina ti|kseniaschnaider|ksubi|ktz|kuboraum|kuhl|kurt geiger london|kwaidan editions|kway d|kwiat|kyme|kyme junior|kyoto tango|la bouche rouge|la californienne|la collection|la doublej|la ligne|la mer|海蓝之谜|la milanesa|la montaña|la perla|la petite lunette rouge|la prestic ouiston|la reveche|la seine moi|la sportiva|lab series|laboratory perfumes|lack of color|lacoste live|lacoste tennis|lacoste|鳄鱼|lado bokuchava|lærke andersen|lala berlin|lamberto losani|lamborghini|兰博基尼|lancaster|lancer|landrover|路虎|laneus|lano  lips hands all over|lanston sport|lanvin|浪凡|lapima|lapointe|laquan smith|lara melchior|lardini|larkspur hawk|larq|larry king|lashfood|laud|laura b|laura garcia|laura lombardi|lauren manoogian|lauren ralph|拉夫劳伦|ralph lauren|polo ralph lauren|lauren rubinski|laurence dacade|lavett chin|layeur|le 17 septembre|le bonnet|le buns|le chic radical|le gramme|le kasha|le labo|香水实验室|le monde beryl|le mont st michel|le paradis|le petite robe di chiara boni|le sarte pettegole|le silla|le sirenuse|le sirenuse positano|le specs|le ster|le tricot perugia|leal daccarett|leandra medine|lebon|leda madera|ledin|乐町|lee mathews|legology|legres|leica|leigh miller|leisure society|lela rose|lele sadoughi|lelet ny|lelloue|lemaire|lemlem|leonard|leonor greyl paris|leret leret|les copains|les coyotes de paris|les girls les boys|les petits joueurs|les tien|lesca|leset|leslie amon|lex pott|lhd|lia di gregorio|liberaiders|liberal youth ministry|liberty london|liebao|猎豹|lifan|力帆|liha|likely|lilbetter|lily|linda farrow|lindberg|lining|lining|李宁|中国李宁|badfive|linktour|领途汽车|linley|lipstick queen|liquiproof labs|lis lareida|lisa folawiyo|lisa marie fernandez|lisa von tang|lisa yang|liska|litkovskaya|lito|little liffner|liu jo|liudmila|live the process|livy|lixiang|理想汽车|lixirskin|liya|lizzie fortunato jewels|lizzie mandler fine jewelry|lndr|local authority|lock co hatters|loeffler randall|loeuvre|loewe|罗意威|lola cruz|london undercover|lone ones|long by valery joseph|longchamp|珑骧|loq|loquet|lord and lord designs|loree rodkin|loren stewart|lorena antoniazzi|lorenzi milano|loretta caponi|loriblu|loro piana|lorraine schwartz|lost daze|lost found ria dunn|lostgeneral| lost general|lostgeneral|lot lthr|lotos|罗特斯|lotus|莲花|louis vuitton| louis vuitton|lv|路易威登|louisa ballou|louisa parris|louise et cie|louise madzia|loulou|loulou de la falaise|loulou studio|lourdes|lovagreen|love moschino|love stories|loveness lee|loveshackfancy|low brand|low classic|lsa international|lth jkt|lu mei|lucy folk|lug von siga|luis miguel howard|luis morais|luisa beccaria|luisa cerano|lululemon lab|lululemon|露露乐蒙|露露柠檬|lumira|lunor|lutz morris|luxgen|纳智捷|lvir|lygia nanny|lyma|lynk co|领克|m davidson|m missoni|m2malletier|macgraw|mackage|mackintosh|macrene actives|mad et len|mad paris|made by dawn|madeleine thompson|madewell|madewell| madewell|made well|madeworn|madness| madness|余文乐|mdns|mae cassidy|magda butrym|maggie marilyn|magis|magrella|maharishi|maisie wilen|maison close|maison dauphin|maison ernest|maison flaneur|maison francis kurkdjian|maison kitsune|maison lejaby|maison margiela|马丁马吉拉|mm6|梅森马丁马吉拉|maison michel|maison mihara yasuhiro|maison rabih kayrouz|maison ullens|maison vaincourt|maisoncleo|majestic filatures|malaika raiss|malibu|maligoetz|malin goetz|malin goetz|马林狗子|malo|malone souliers|mama mio|mamc|mame|mame kurogouchi|mami wata|mammut|man 1924|manebi|manish arora|manning cartell|manokhi|manolo blahnik|mansur gavriel|mantu|manu atelier|manuel ritz|manzoni 24|maor|maple|mara hoffman|mara mac|mara mine|marc alary|marc by marc jacobs|marc jacobs watches|marc le bihan|marcelo burlon county of milan|marcha|marchesa|marchesa notte|marchesa notte bridesmaids|marcia|marco de vincenzo|marco rambaldi|marcoliani|marfa stance|margaret dabbs london|margaret howell|maria black|maria la rosa|maria lucia hohan|maria tash|mariah esa|mariani|marie france van damme|marie helene de taillac|marie lichtenberg|mariestellamaris|marika vera|marina b|marine serre|mario borsato vintage|marion parke|mark cross|mark davis|mark fairwhale|马克华菲|mark kenly domino tan|markarian|markoo|markus lupfer|marla aaron|marlies dekkers|marlo laz|marmot|marni|marram co|marsell|marskinryyppy|marta jakubowski|märta larsson|martha medeiros|martin grant|martin martin|martine ali|martinerose|martine rose|marvis|mary katrantzou|maryam nassir zadeh|maryjane claverol|marysia|marzook|masahiromaruyama|masnada|massada|masscob|massimo alba|massimo dutti|master dynamic|mastermind japan|mastermind|mmj|mastermind world|masterpeace|masterpiece|masunaga|mateo|materiel|maticevski|matsuda|matteau|matthew adams dolan|mattia cielo|maui jim|mauli rituals|mauna kea|maurice lacroix|maurizio miri|max mara|maxmara|max moi|maxfield parrish vintage|maximilian mogg|maxus|大通|maya magal|maybach|迈巴赫|mazda|马自达|mc2 saint barth|mcguire denim|mcm|mcq|mcq swallow|meadowlark|medea|medicom|medicom toy|mehry mu|meiya|美亚|melissa joy manning|melissa kaye|melissa odabash|melitta baumeister|meme|meng|menu|mercedes castillo|mercedes salazar|merci|merrell|merve bayindir|meryll rogge|mes demoiselles|messika|mf|mg|名爵|miahatami|miansai|miaoran|miaou|michael kors collection|michael kors|mk|michael lo sordo|michael michael kors|michael verheyden|michel klein|michel vivien|michelle mason|michi|midnight 00|mignonne gavigan|miguelina|miharayasuhiro modified|miista|mikia|mila schon vintage|milla milla|milly|mimi|mimi luzon|mimi prober|mindi mond|minimalux|minimarket|minjukim|mio|mira mikati|misa los angeles|misbhv|misha collection|misho|mismo|miss sixty|missing you already|missoni mare|missoni|米索尼|mitchell ness|mitos|mitsubish|三菱|miu miu|mizuki|mizuki shinkai|mjb marc jacques burton|mlb|美职联|mlouye|mm6 maison margiela|moa master of arts|moco|moeva|mollusk|molly goddard|moma|monan|moncler|蒙口|盟可睐|mondaine|mondo mondo|monica rich kosann|monica sarti|monica sordo|monica vinader|monies|monique lhuillier|monitaly|monogram|monographie|monreal london|monse|montana|montblanc|montroi|moohong|moon boot|moon j|moorer|moose knuckles|more joy|moreau|morgan lane|moschino cheap chic|moschino|莫斯奇诺|茉思奇诺|moscot|mostly heard rarely seen|mother|mother of pearl|mou|mounser|mountain hardwear|mountainsmith|moussy|moussy vintage|movado|movbain|mowalola|mp massimo piombo|mpg|mr leight|mr mrs italy|mr porter grooming|mrz|msgm|msr|mugler|mulberry|mulo|munderingskompagniet|munthe|murmur|muun|myge|mykita|mykitmaison margiela|myla|myriam schaefer|mz skin|mz wallace|n duo|naadam|nackiye|nadia morgenthaler|nadine ghosn|nagnata|namacheko|nanamica|nananana|nannacay|nannette de gaspe|nanushka|napa by martine rose|narciso rodriguez|nasaseasons|nasonmoretti|natalie marie|natalie perry|natasha schweitzer|natasha zinko|nathalie schreckenberg|nathalie trad|native sons|native union|natori|natura bisse|naturae sacra|necessity sense|needle thread|needles|nehera|neighborhood|nbhd|neil barrett|neiwai|内外|nektar de stagni|nensi dojaka|neo legend|neogen|neous|nervi|nest fragrances|neta|哪吒汽车|neul|nevernot|new balance|新百伦|newbalance|new look|newlook|nialaya jewelry|nicholas|nicholas kirkwood|nick fouquet|nickho rey|nico giani|nicole benisti|nicole miller|night market|nike|耐克|nil mon|nili lotan|nimble activewear|nina ricci|nine in the morning|nine west|玖熙|ninety percent|nio|蔚来|niod|niomo|nisnas industries|nissan|日产|niza huang|nk|nn07|noah nyc|noble panacea|nobody denim|nodaleto|noire swimwear|nomadic state of mind|nomia|nonnative|noon goons|noor fares|norma kamali|normann copenhagen|norse projects|north sails|northskull|noush|nrs|nude|nudie jeans|numbering|numero 10|nuove forme|nurse jamie|nuur|nylora|oakley|oakley by samuel ross|oamc|obey|oboz|octavia elizabeth|odeeh|odeur|odile jacobs|odlo|odyssee|of rare origin|officine creative|officine generale|offwhite|off white|okhtein|olaplex|ole lynggaard copenhagen|olgana|oliver goldsmith|oliver peoples|oliver spencer|oliver spencer loungewear|olivia palermo|olivia rubin|olivia von halle|olivier theyskens|olympia letan|olympiah|omega|omorovicza|onalaja|onefifteen|onia|only|ooak|opening ceremony|openingceremony|opportuno|orange culture|orciani|oribe|origin 31|original mineral|oris|orlebar brown|orolog by jaime hayon|oroton|orseund iris|orslow|orveda|oscar de la renta|oscar tiye|oseree|oskia|osklen|osman|osoi|osprey|otis batterbee|otiumberg|ottolinger|ouai haircare|our legacy|outdoor research|outerknown|overose|oyuna|pace|pacharee|paciotti|paco rabanne|pagani|帕加尼|pai skincare|paige|palace|pallas paris|palm angels|palmerharding|pamela love|panconesi|pandora|潘多拉|panerai|pankhurst london|pantanetti|pantherella|pantos paris|paolita|paolo piovan|paraboot|paradis collection|paradis perdus|paradise|paradised|parajumpers|paravel|paris georgia|paris texas|parker|parlor|parmigiani fleurier|partow|parts of four|pas normal studios|pasadena leisure club|pascale monvoisin|pascia|paskal|pasquale bruni|pat mcgrath labs|patagonia|patbo|patcharavipa|patek philippe|patou|patricks|patrizia pepe|patta|paul andrew|paul joe|paul stuart|paul warmer|paula cademartori|paula knorr|paula mendoza|paule ka|pawaka|pcmy|psycho monkey|pe nation|peacebird|太平鸟|peaceminusone|peak|peak performance|peak|匹克|pearl izumi|pedro garcia|pendleton|peng tai|戴鹏|peony|peoples republic of cashmere|percossi papi|perfect moment|perks and mini|pernille lauridsen|perricone md|perrin paris|persee|persol|peserico|petar petrov|petements|peter cohen|peter do|peter may walk|peter millar|peter non|peter pilotto|peter thomas roth|petite grand|petralux|peugeot|标致|peuterey|peyote bird|phaedo studios|phaidon|phenix|philip b|philip kingsley|philip treacy|philipp plein|philippe model paris|phillip lim|philliplim|3.1philliplim|philosofie|philosophy di lorenzo serafini|phisique du role|piaget|piamita|piazza sempione|pieces|pierantoniogaspari|pierre balmain|巴尔曼|pierre cardin|皮尔卡丹|pierre hardy|pierrelouis mascia|piet|piferi|pigalle|pilgrim surf supply|pineider|pinetti|pinko|pippa holt|pippa small|pippo perez|plantation|playboy vintage|pleasures|pleats please issey miyake|plein sport|plein sud|plyknits|pmd|poc|pointe studio|poiret|polaroid originals|polder|pollini|polly plume|polly wales|pomellato|poolside|pop trading company|poppy finch|porte paire|porteryoshida co|portolano|ports 1961|portspure|poster girl|poupette st barth|pour les femmes|prabal gurung|prada|普拉达|prager skincare|pragnell|prana|preen by thornton bregazzi|preen line|premiata|premier amour|pretty ballerinas|primury|pringle of scotland|priscavera|prism|private stock|proenza schouler|proenza schouler white label|projekt produkt|pronounce|pros by ch|prudence millinery|ps paul smith|published by|pulbear|pulpo|puma|彪马|purdey|purlicue|pursoma|pushbutton|pyer moss|pyrenex|qeeboo|qinchuan|秦川|qoros|观致|quantum courage|quelle2|quetsche|quo active|quoddy|r13|raawi|rab|rachel comey|rachel gilbert|rachel jackson|rachel zoe|racil|rada|rae morris|raeburn|raf simons|rag bone|rahua|rahul mishra|rails|raincry|rains|ralph masri|ralph russo|ram|random identities|randomevent|ranjana khan|rapha|raphaele canot|rapp|rapport|raquel allegra|raquel diniz|raquette|rasario|ratio coffee|ratio et motus|rave review|rayban|re code|readymade|realtree xtra|realtree|rebecca de ravenel|rebecca minkoff|rebecca taylor|rebecca vallance|red foal|red valentino|华伦天奴|red wing shoes|redemption|redline|redone|redvalentino|ree projects|reebok x victoria beckham|reebok|锐步|reed krakoff|reef|reflections copenhagen|reformation|reigning champ|reike nen|reina olga|reinaldo lourenço|reinhard plank|reiz|rejina pyo|remain|remain birger christensen|remi relief|ren clean skincare|renaissance renaissance|renault|雷诺|rene caovilla|renli su|rentrayage|repossi|ressence|retaw|retrofete|retrofête|retrosuperfuture|retrouve|reverence de bastien|revitalash|revive|revo|rewind vintage affairs|reyn spooner|rhea costa|rhode|rhode resort|rhude|rianna nina|ribeyron|richard james|richard malone|richard quinn|rick owens drkshdw|rick owens|rick owen|瑞克·欧文斯|瑞克欧文斯|rickyisclown|rigards|rime arodaky|rita hazan|ritch erani nyfc|ritter|瑞特思|rituel de fille|ritz saddler vintage|rivieras|rixo|rizzoli|rj watches|rlx ralph lauren|roa|roaringwild|roaringwild|roberi fraud|robert clergerie|robert la roche|roberto capucci vintage|roberto cavalli|roberto coin|roberto collina|roberto demeglio|roberto festa|roberts wood|rochas|rochelle sara|rocio|rockins|rodarte|rodebjer|rodin|rodo|roewe|荣威|roger dubuis|roger vivier|方扣鞋|rv|rohka|roker|rokh|rokit|roksanda|roland mouret|rolex|劳力士|rolls royce|劳斯莱斯|roman williams guild|romance was born|rombaut|roots|roqa|rosa de la cruz|rosa maria|rosantica|rose md skin|roseanna|rosenthal|rosetta getty|rosie assoulin|rossano ferretti parma|rossignol|rotate|rotate birger christensen|rothco china|rov|rowen rose|roxanne assoulin|roxanne first|royal fern|royal robbins|rrl|rta|ruban|rubin singer|rubinacci|rudi gernreich|rue mariscal|rue st|rundholz|runway marc jacobs|rupert sanderson|ruslan baginskiy|rylan|s.t.dupont|都彭|sablyn|saboo fine jewels|sabry marouf|sacai|sachajuan|sachin babi|safiyaa|saic maxus|上汽大通|saiid kobeisy|saint fragrance|saint laurent|圣罗兰|sainted sisters|saks potts|salar|salle privee|salomon|salomon slab|salondeju|saloni|salt stone|salvatore ferragamo|ferragamo|菲拉格慕|salvatore santoro|salvatori|sam edelman|saman amel|samantha sung|sambonet|samsung|三星|samuele failli|sandralexandra|sandro paris|sandy liang|sankuanz|santangelo|santoni|sapir bachar|sapopa|sara battaglia|sara lanzi|sara robertsson|sara roka|sarah chapman|sarah chofakian|sarah sebastian|sardo|sargadelos|sartore|sartori gold|sartorial monk|sasha samuel|saskia diez|satisfy|satta|saturdays nyc|saucony|saunders long|savannah morrow the label|save khaki united|save the duck|saved ny|savoir joaillerie|saxx|scarosso|scarpa|schiesser|schott|schutz|scott|sea|sea new york|sealand gear|sease|sebago|sebastian|sebastien joffrey monfort|see by chloe|seed to skin|seen users|sefr|seirus|sekford|seletti|self cinema|selfportrait|selim mouzannar|semicouture|sener besim|senreve|sensi studio|senso|serapian|seren|serena uziyel|sergio rossi|serpui|seventy|sgm wuling|上汽通用五菱|shamballa jewels|shanghai tang|shani darden|shanshan ruan|shaquda|sharkchaser|shaun leane|shay|she made me|shelby|西贝尔|shhhowercap|shihara|shiko|shinola|shiro sakai|shirui|世锐|shiseido|资生堂|shona joy|shourouk|shrimps|shuguang|曙光|shushutong|shushu tong|shushu tong|树树彤|shuting qiu|裘淑婷|sia taylor|sian swimwear|sibling|sid mashburn|sidi|sies marjan|sijay|silhouette|silke london|silvano sassetti|silverlake|silvia astore|silvia furmanovich|silvia tcherassi|simon hasan|simon miller|simona tagliaferri|simone perele|simone rocha|simone wild|simonetta ravizza|simplehuman|sindiso khumalo|sitech|新特汽车|situationist|size?|sjyp|skechers|斯凯奇|skii|sk2|skiim|skims|skin|skoda|斯柯达|skultuna|skyline chess|sleeper|sleeping gypsy|sleepy jones|slip|slowear|slvrlake|smarteez|smartwool|sminfinity|smr days|smythe|smythson|snob|snobby sheep|snow peak|soar running|societe anonyme|soft mountains|sol amor 1946|solace london|solange|soleil toujours|solid striped|something wicked|song for the mute|songzio|sonia rykiel|sonic editions|sophia kah|sophia webster|sophie bille brahe|sophie buhai|sophie hulme|sorel|sorellina|sorry in advance|sottomettimi|souliers martinez|soulland|south lane|southeast|东南|soveral|spalwart|spanx|spao|sperry|spinelli kilcollin|sportmax|sportmax code|sportube|sporty rich|sprwmn|spyder|spyker|世爵|srvz club|ssam|ssheena|sss world corp|ssur|stadium goods|stalvey|stampd|stand studio|staple|starwalk|staud|stayreal|steamery|stee|stefano mortari|stefere|steffen schraut|stella jean|stella luna|stella mccartney|stephan schneider|stephen webster|sterling king|stewart|still here|stine goya|stone|stone and strand|stone island|stone paris|stories of italy|stormie|stouls|strangelove nyc|strateas carlucci|strategia|stuart weitzman|studio amelia|studio chofakian|studio nicholson|stutterheim|stvdio|styland|su paris|suamoment|suboo|suecomma bonnie|sueundercover|suicoke|sulka|sulvam|sumarie|summer fridays|sun buddies|sunday riley|sunflower|sunnei|suno|sunspel|superdry|极度干燥|superga|supertofu|supertofu|suprema|supreme|至高无上|supriya lele|susan caplan vintage|susan fang|susannah king|susanne kaufmann|suunto|suzanne kalan|suzanne rae|suzie kondi|suzuki|铃木|suzusan|swarovski|施华洛世奇|swear|sweaty betty|swedish hasbeens|sweet protection|swix|sydney evan|sylva cie|sylvie schimmel|system|tabitha simmons|tadashi shoji|tag heuer|泰格豪雅|tagliatore|tala|talbot runhof|talitha|taller marmo|tamara comolli|tammbenjamin|tanluxe|tanya taylor|tara hirshberg|tara matthews|tara zadeh|tasaki|taschen|tata|tata harper|tata naka|tateossian|tbalance crystals|team wang|techne watches|tecnica|ted lapidus vintage|teija|tekla|tela|telfar|temperley london|templa|temptu|ten c|ten pieces|tenoverten|terramar|terry|tesla|特斯拉|teva|texas robot|thakoon addition|the alkemistry|the art of ping pong|the attico|the boyscouts|the bridge|the chic initiative|the elder statesman|the gigi|the great|the great eros|the hundreds|the last conspiracy|the laundress|the light salon|the line by k|the lost explorer|the marc jacobs|the mighty company|the mr porter paperback|the new english|the north face|the north face|北面|北脸|tnf|orthface|the oozoo|the range|the reference library|the row|the sant|the seafarer|the seller|the skateroom|the upside|the vampire wife|the viridianne|the volon|the wiz|the wolseley collection|the workers club|thebe magugu|theo|theory|therabody|thermarest|thibierge paris|thierry colson|thierry lasry|third crown|this is never that|this works|thom browne|thom browne|thombrowne|thom krom|thom sweeney|thomas wylde|thorsun|thrasher|threads 4 thought|three floor|three graces|thunders love|thurley|tiba marl|tibi|tiffany|蒂芙尼|tiger in the rain|tila march|timberland|踢不烂|添柏岚|timbuk2|timeless pearly|timex|timothy han|tkees|toaco|tobias birk nielsen|tobias wistisen|toga|toga pulla|tohum|tom binns|tom dixon|tom wood|tomas maier|tome|tommy hilfiger|汤米·希尔费格|汤米希尔费格|tommy jeans|tonello|toni sailer|toogood|tooletries|tooshie|tortona 21|tory burch|托里伯奇|tory sport|tosca blu|tove|toyota|丰田|tracie martyn|track field|tracksmith|transience|transit|transpack|transparent speaker|traum|君马|trave denim|travis walker|tw|tre by natalie ratabesi|tre product|trianon|tripollar|trippen|triumph disaster|troubadour|true religion|true rocks|trumpchi|传祺|trussardi jeans|tsmlxlt|tsumori chisato|tubici|tudor|帝舵|tufi duek|tuinch|turnbull asser|turtle fur|tvf|twenty montreal|twin fantasy|twinset|tyakasha|塔卡沙|tyler ellis|ugg|ugo cacciatori|ujoh|ulla johnson|ultrachic|ultracor|ulu|ulysse nardin|uma|uma oils|uma wang|umit benan|unbreakable|undefeated|under armour|安德玛|underarmour|undercover|unfortunate portrait|uniform wares|unifree|unimatic|uniqlo|优衣库|universal works|unravel project|unreal fur|ur|urban revivo|urban outfitters|urbancode|usisi sister|utzon|v by laura vann|v76|vaara|vacheron constantin|valentino garavani|valentino|华伦天奴|valery kovalska|valet|valextra|valstar|van cleef arpels|van palma|vanderohe|vanderwilt|vanessa bruno|vanessa cocchiaro|vanessa seward|vanina|vanrycke|vans|范斯|vaquera|varley|vasic|vasque|vaubel|vava|veecollective|veilance|veja|vejas|velva sheen|venczel|venessa arizaga|venn|venna|venroy|venucia|启辰|venyx|vera wang|veromoda|veronica beard|versace|范思哲|verso|versus|vetements|viberg|vic matie|vicenza|victor costa vintage|victoria beckham|victoria strigini|victoria victoria beckham|viishow|vika gazinskaya|viktor rolf|viktorolf soir|vilebrequin|villa|vilshenko|viltier|vince|vintage cult|angelo vintage|vionnet|virtue|vista alegre|visvim|vita kin|vital proteins|vitra|vittorio virgili|vivetta|vivienne westwood|西太后|vix|vlone|vogue|volkl|volvo|沃尔沃|voodoo jewels|vostok clth|votary|voz|vuarnet|vw|大众|vyner articles|wacko maria|wacoal|waimari|waiting for the sun|waiwai rio|wald berlin|wales bonner|walk of shame|walter van beirendonck|wanda nylon|wandering|wandler|wanfeng|万丰|want les essentiels|war paint for men|warmme|wassup|we are kindred|we are leone|we norwegians|we11done|weichai|潍柴汽车|weiss|weltmeister|威马|westernaffair|westman atelier|wey|魏|white bird|white mountaineering|white sand|who decides war by ev bravado|whoosis|whosetrap|why play|whyplay|wildfox|william lockie|william son|wohngeist|wolf|wolford|wone|wood wood|woolrich|wouters hendrix|wright le chapelain|wsly|wtaps|wwake|xander zhou|xh55|xiao wang|xiaopeng|小鹏|ximena kavalekas|xlarge|xu zhi|y3|yang li|yannis sergakis|yasmine eslami|yatay|yazbukey|year of ours|yeezy|椰子|kanye|侃爷|坎爷|yema|野马|yeprem|yindigo am|ymc|yniq|yohji yamamoto|yoko london|yossi harari|youth corridor|yproject|y project|ystudio|yuejin|跃进|yueque|云雀|yuhan wang|yuiki shimoji|yuketen|yuliya magdych|yulu|裕路|yundu|云度|yunik|yuul yie|yuzefi|yvel|yves saint laurent|yves salomon|yvmin|yvonne leon|yvonne s|zac zac posen|zadivoltaire|zaha hadid design|zanat|zanella|zanellato|zanini|zanone|zara|zeemou zeng|zelens|zenith|zespa|zeudione|zeynep arcay|zhongxing|中兴|ziggy chen|zilver|zimmerli|zimmermann|zitsticka|zucca|zuhair murad|亚历山大王|alexander wang|alexander wang|亚历山大麦昆|alexander mcquees|alexander mcqueen|alexandermcqueen|始祖鸟|arc teryx|arcteryx|拜里朵|百瑞德|罗贾斯|alejandra alonso rojas)'"
   ]
  },
  {
   "cell_type": "code",
   "execution_count": null,
   "metadata": {},
   "outputs": [],
   "source": [
    "def suit_by_re(text):\n",
    "    # re.I 忽略大小写，re.S忽略换行\n",
    "    o=re.search(re_string,text,re.I|re.S)\n",
    "    return o.group(0) if o else ''"
   ]
  },
  {
   "cell_type": "code",
   "execution_count": null,
   "metadata": {},
   "outputs": [],
   "source": [
    "text='chanellevis'"
   ]
  },
  {
   "cell_type": "code",
   "execution_count": null,
   "metadata": {},
   "outputs": [],
   "source": [
    "suit_by_re(text)"
   ]
  },
  {
   "cell_type": "code",
   "execution_count": null,
   "metadata": {},
   "outputs": [],
   "source": [
    "import re\n",
    "a = \"123abc456\""
   ]
  },
  {
   "cell_type": "code",
   "execution_count": null,
   "metadata": {},
   "outputs": [],
   "source": [
    "print(re.search(\"([0-9]*)([a-z]*)([0-9]*)\",a).group(0))  #123abc456,返回整体\n",
    "# print (re.search(\"([0-9]*)([a-z]*)([0-9]*)\",a).group(1) )  #123\n",
    "# print (re.search(\"([0-9]*)([a-z]*)([0-9]*)\",a).group(2) )  #abc\n",
    "# print (re.search(\"([0-9]*)([a-z]*)([0-9]*)\",a).group(3) ) #456"
   ]
  },
  {
   "cell_type": "code",
   "execution_count": null,
   "metadata": {},
   "outputs": [],
   "source": [
    "import re\n",
    " \n",
    "print(re.search('www', 'www.runoob.com').span())"
   ]
  },
  {
   "cell_type": "code",
   "execution_count": null,
   "metadata": {},
   "outputs": [],
   "source": [
    "import re as r"
   ]
  },
  {
   "cell_type": "code",
   "execution_count": null,
   "metadata": {},
   "outputs": [],
   "source": [
    "sentence=\"cats are smarter than dogs\"\n",
    "\n",
    "o=re.search(r'(.*) are (.*?) .*',sentence,r.M|r.I )  # r.I 忽略大小写， r.M 多行模式 \n",
    "# .* 表示任意匹配除换行符（\\n、\\r）之外的任何单个或多个字符\n",
    "# (.*?) 表示\"非贪婪\"模式，只保存第一个匹配到的子串\n",
    "\n",
    "if o:\n",
    "    print(o.group(0))\n",
    "    print(o.group(1))\n",
    "else:\n",
    "    print(\"nothing\")"
   ]
  },
  {
   "cell_type": "code",
   "execution_count": null,
   "metadata": {},
   "outputs": [],
   "source": [
    "import pandas as pd\n",
    "import jieba\n",
    "from sklearn.feature_extraction.text import CountVectorizer, TfidfVectorizer"
   ]
  },
  {
   "cell_type": "code",
   "execution_count": null,
   "metadata": {},
   "outputs": [],
   "source": [
    "#获取默认路径\n",
    "import os\n",
    "print (os.path.abspath('.'))"
   ]
  },
  {
   "cell_type": "code",
   "execution_count": null,
   "metadata": {},
   "outputs": [],
   "source": [
    "df = pd.read_csv('~/Desktop/bili_board.csv')"
   ]
  },
  {
   "cell_type": "code",
   "execution_count": null,
   "metadata": {},
   "outputs": [],
   "source": [
    "df"
   ]
  },
  {
   "cell_type": "code",
   "execution_count": null,
   "metadata": {},
   "outputs": [],
   "source": [
    "df.describe().round()"
   ]
  },
  {
   "cell_type": "code",
   "execution_count": null,
   "metadata": {},
   "outputs": [],
   "source": [
    "df.groupby(by='nickname')"
   ]
  },
  {
   "cell_type": "code",
   "execution_count": null,
   "metadata": {
    "scrolled": true
   },
   "outputs": [],
   "source": [
    "df.groupby(\"nickname\").agg('sum').round().sort_values(\"score\",ascending=False)"
   ]
  },
  {
   "cell_type": "code",
   "execution_count": null,
   "metadata": {
    "scrolled": true
   },
   "outputs": [],
   "source": [
    "df.groupby(\"nickname\").agg({'view_count':'median','score':'mean'}) "
   ]
  },
  {
   "cell_type": "code",
   "execution_count": null,
   "metadata": {
    "scrolled": false
   },
   "outputs": [],
   "source": [
    "df.groupby(\"nickname\")[\"score\"].transform('mean').round()"
   ]
  },
  {
   "cell_type": "code",
   "execution_count": null,
   "metadata": {},
   "outputs": [],
   "source": [
    "df.groupby(\"nickname\").agg(\"count\").sort_values(\"rank\",ascending=False).round()"
   ]
  },
  {
   "cell_type": "code",
   "execution_count": null,
   "metadata": {},
   "outputs": [],
   "source": [
    "df.groupby([\"nickname\"]).get_group('score')"
   ]
  },
  {
   "cell_type": "code",
   "execution_count": null,
   "metadata": {},
   "outputs": [],
   "source": [
    "df['nickname'].nunique()"
   ]
  },
  {
   "cell_type": "code",
   "execution_count": null,
   "metadata": {
    "scrolled": true
   },
   "outputs": [],
   "source": [
    "a.all()"
   ]
  },
  {
   "cell_type": "code",
   "execution_count": null,
   "metadata": {},
   "outputs": [],
   "source": [
    "df2=df['nickname'].value_counts().sort_values(ascending=False)"
   ]
  },
  {
   "cell_type": "code",
   "execution_count": null,
   "metadata": {
    "scrolled": true
   },
   "outputs": [],
   "source": [
    "x.get_group('nickname')"
   ]
  },
  {
   "cell_type": "code",
   "execution_count": null,
   "metadata": {},
   "outputs": [],
   "source": [
    "df3=df[['nickname']]"
   ]
  },
  {
   "cell_type": "code",
   "execution_count": null,
   "metadata": {},
   "outputs": [],
   "source": [
    "df3"
   ]
  },
  {
   "cell_type": "code",
   "execution_count": null,
   "metadata": {},
   "outputs": [],
   "source": [
    "df4=df.melt()"
   ]
  },
  {
   "cell_type": "code",
   "execution_count": null,
   "metadata": {},
   "outputs": [],
   "source": [
    "df4"
   ]
  },
  {
   "cell_type": "code",
   "execution_count": null,
   "metadata": {
    "scrolled": false
   },
   "outputs": [],
   "source": [
    "df.head()"
   ]
  },
  {
   "cell_type": "code",
   "execution_count": null,
   "metadata": {
    "scrolled": true
   },
   "outputs": [],
   "source": [
    "df2.loc[df2['category'].str.contains('搞笑'),['nickname']]  "
   ]
  },
  {
   "cell_type": "code",
   "execution_count": null,
   "metadata": {},
   "outputs": [],
   "source": [
    "df2.filter(regex='\\.')"
   ]
  },
  {
   "cell_type": "code",
   "execution_count": null,
   "metadata": {},
   "outputs": [],
   "source": [
    "df"
   ]
  },
  {
   "cell_type": "code",
   "execution_count": null,
   "metadata": {},
   "outputs": [],
   "source": [
    "df[u'category'].isin(['搞笑'])\n",
    "##u means unicode string "
   ]
  },
  {
   "cell_type": "code",
   "execution_count": null,
   "metadata": {},
   "outputs": [],
   "source": [
    "df.head()"
   ]
  },
  {
   "cell_type": "code",
   "execution_count": null,
   "metadata": {},
   "outputs": [],
   "source": [
    "df2=df[['nickname','category','score']]"
   ]
  },
  {
   "cell_type": "code",
   "execution_count": null,
   "metadata": {},
   "outputs": [],
   "source": [
    "df2.head(1)"
   ]
  },
  {
   "cell_type": "code",
   "execution_count": null,
   "metadata": {},
   "outputs": [],
   "source": [
    "df3=df2[df2['category']==\"搞笑\"] # 选择元素是“搞笑”的行 "
   ]
  },
  {
   "cell_type": "code",
   "execution_count": null,
   "metadata": {},
   "outputs": [],
   "source": [
    "df3.sort_values('score',ascending=False)"
   ]
  },
  {
   "cell_type": "code",
   "execution_count": null,
   "metadata": {},
   "outputs": [],
   "source": [
    "df2[df2['category'].isin(['搞笑','明星'])]"
   ]
  },
  {
   "cell_type": "code",
   "execution_count": null,
   "metadata": {},
   "outputs": [],
   "source": [
    "df.describe().round()"
   ]
  },
  {
   "cell_type": "code",
   "execution_count": null,
   "metadata": {},
   "outputs": [],
   "source": [
    "df2"
   ]
  },
  {
   "cell_type": "code",
   "execution_count": null,
   "metadata": {},
   "outputs": [],
   "source": [
    "dfc = pd.read_csv('~/Desktop/Untitled.csv')"
   ]
  },
  {
   "cell_type": "code",
   "execution_count": null,
   "metadata": {},
   "outputs": [],
   "source": [
    "dfc.describe().round()"
   ]
  },
  {
   "cell_type": "code",
   "execution_count": null,
   "metadata": {},
   "outputs": [],
   "source": [
    "dfc.head(1)"
   ]
  },
  {
   "cell_type": "code",
   "execution_count": null,
   "metadata": {},
   "outputs": [],
   "source": [
    "dfc.groupby(by='brand')"
   ]
  },
  {
   "cell_type": "code",
   "execution_count": null,
   "metadata": {},
   "outputs": [],
   "source": [
    "dfc['brand'].count()"
   ]
  },
  {
   "cell_type": "code",
   "execution_count": null,
   "metadata": {},
   "outputs": [],
   "source": [
    "dfc.pivot(columns='brand', values='post')"
   ]
  },
  {
   "cell_type": "code",
   "execution_count": null,
   "metadata": {},
   "outputs": [],
   "source": [
    "dfc.head(1)"
   ]
  },
  {
   "cell_type": "code",
   "execution_count": null,
   "metadata": {},
   "outputs": [],
   "source": [
    "import jieba\n",
    "from sklearn.feature_extraction.text import CountVectorizer, TfidfVectorizer"
   ]
  },
  {
   "cell_type": "code",
   "execution_count": null,
   "metadata": {},
   "outputs": [],
   "source": [
    "dfc.shape"
   ]
  },
  {
   "cell_type": "code",
   "execution_count": null,
   "metadata": {},
   "outputs": [],
   "source": [
    "df['nickname'].count()"
   ]
  },
  {
   "cell_type": "code",
   "execution_count": null,
   "metadata": {},
   "outputs": [],
   "source": [
    "df[['nickname']].groupby('nickname').agg('count')"
   ]
  },
  {
   "cell_type": "code",
   "execution_count": null,
   "metadata": {},
   "outputs": [],
   "source": [
    "# [] 索引运算符 .属性运算符   索引，寻找 \n",
    "# MultiIndex \n",
    "# .loc "
   ]
  },
  {
   "cell_type": "code",
   "execution_count": null,
   "metadata": {},
   "outputs": [],
   "source": [
    "df.loc[0:3]    "
   ]
  },
  {
   "cell_type": "code",
   "execution_count": null,
   "metadata": {},
   "outputs": [],
   "source": [
    "df.iloc[1:3,1:4]  # (row, column) \n",
    "\n",
    "##axis axes subplot figure "
   ]
  },
  {
   "cell_type": "code",
   "execution_count": null,
   "metadata": {},
   "outputs": [],
   "source": [
    "df.loc[10,'nickname']   # .loc is to choose with indexs  "
   ]
  },
  {
   "cell_type": "code",
   "execution_count": null,
   "metadata": {},
   "outputs": [],
   "source": [
    "df.iat[3,1]"
   ]
  },
  {
   "cell_type": "code",
   "execution_count": null,
   "metadata": {},
   "outputs": [],
   "source": [
    "df[df['score']>100]"
   ]
  },
  {
   "cell_type": "code",
   "execution_count": null,
   "metadata": {},
   "outputs": [],
   "source": [
    "df.info()"
   ]
  },
  {
   "cell_type": "code",
   "execution_count": null,
   "metadata": {},
   "outputs": [],
   "source": [
    "print(df.describe().round())"
   ]
  },
  {
   "cell_type": "code",
   "execution_count": null,
   "metadata": {},
   "outputs": [],
   "source": [
    "df.columns   # index=False 不需要索引列 "
   ]
  },
  {
   "cell_type": "code",
   "execution_count": null,
   "metadata": {},
   "outputs": [],
   "source": [
    "# axis=1 表示横轴，方向从左到右，是对一行数据即不同的列求平均 \n",
    "# axis=0  \n",
    "# axis 不代表横轴或者纵轴，是有方向的 "
   ]
  },
  {
   "cell_type": "code",
   "execution_count": null,
   "metadata": {
    "scrolled": true
   },
   "outputs": [],
   "source": [
    "df.dropna(axis=0, how='any')"
   ]
  },
  {
   "cell_type": "code",
   "execution_count": null,
   "metadata": {
    "scrolled": true
   },
   "outputs": [],
   "source": [
    "pd.isnull(df)"
   ]
  },
  {
   "cell_type": "code",
   "execution_count": null,
   "metadata": {},
   "outputs": [],
   "source": [
    "df.drop(\"title\",axis=1)"
   ]
  },
  {
   "cell_type": "code",
   "execution_count": null,
   "metadata": {},
   "outputs": [],
   "source": [
    "import pandas as pd"
   ]
  },
  {
   "cell_type": "code",
   "execution_count": null,
   "metadata": {},
   "outputs": [],
   "source": [
    "df = pd.read_csv('bili_board.csv')"
   ]
  },
  {
   "cell_type": "code",
   "execution_count": null,
   "metadata": {},
   "outputs": [],
   "source": [
    "df.head()"
   ]
  },
  {
   "cell_type": "code",
   "execution_count": null,
   "metadata": {},
   "outputs": [],
   "source": [
    "df.describe().round()"
   ]
  },
  {
   "cell_type": "code",
   "execution_count": null,
   "metadata": {},
   "outputs": [],
   "source": [
    "a=df.loc[5,'nickname']"
   ]
  },
  {
   "cell_type": "code",
   "execution_count": null,
   "metadata": {},
   "outputs": [],
   "source": [
    "print (a)"
   ]
  },
  {
   "cell_type": "code",
   "execution_count": null,
   "metadata": {},
   "outputs": [],
   "source": [
    "df2=df.loc[1:10,:]  #a slice from the dataset, not use df.head(10)"
   ]
  },
  {
   "cell_type": "code",
   "execution_count": null,
   "metadata": {},
   "outputs": [],
   "source": [
    "df2"
   ]
  },
  {
   "cell_type": "code",
   "execution_count": null,
   "metadata": {},
   "outputs": [],
   "source": [
    "df3=df.loc[(1,10), 'nickname':'score']  ## loc is location \n",
    "df3"
   ]
  },
  {
   "cell_type": "code",
   "execution_count": null,
   "metadata": {},
   "outputs": [],
   "source": [
    "df4=df.iloc[1,5]    ##iloc can only accept integers\n",
    "df4"
   ]
  },
  {
   "cell_type": "code",
   "execution_count": null,
   "metadata": {},
   "outputs": [],
   "source": [
    "df3.dtypes"
   ]
  },
  {
   "cell_type": "code",
   "execution_count": null,
   "metadata": {},
   "outputs": [],
   "source": [
    "df3[df3['duration']<700]"
   ]
  },
  {
   "cell_type": "code",
   "execution_count": null,
   "metadata": {},
   "outputs": [],
   "source": [
    "df[df['duration']<100] # select data by colume attributes "
   ]
  },
  {
   "cell_type": "code",
   "execution_count": null,
   "metadata": {},
   "outputs": [],
   "source": [
    "df[(df['duration']<100)&(df['duration']>50)] ##多个条件加括号后 & ｜  "
   ]
  },
  {
   "cell_type": "code",
   "execution_count": null,
   "metadata": {},
   "outputs": [],
   "source": [
    "df[(df['duration']<100)&(df['duration']>50)][['title','category']]  #这些不是通过位置筛选的 是通过条件筛选的 "
   ]
  },
  {
   "cell_type": "code",
   "execution_count": null,
   "metadata": {
    "scrolled": true
   },
   "outputs": [],
   "source": [
    "df[df.duration<100]   ##=df[df['duration']<100] "
   ]
  },
  {
   "cell_type": "code",
   "execution_count": null,
   "metadata": {},
   "outputs": [],
   "source": [
    "# r''  (not apply escape character) 转义字符 / /n  \n",
    "# u'' (unicode) \n",
    "# integer , float, string, boolean (True, False )- and/or/not \n",
    "\n",
    "#动态语言 <> 静态语言 \n",
    "len('中文'.encode('utf-8'))\n"
   ]
  },
  {
   "cell_type": "code",
   "execution_count": null,
   "metadata": {},
   "outputs": [],
   "source": [
    "len('中文')"
   ]
  },
  {
   "cell_type": "code",
   "execution_count": null,
   "metadata": {},
   "outputs": [],
   "source": [
    "# %d integer  占位符 placeholder \n",
    "# %f float \n",
    "# %s string \n",
    "# %x 十六进制 \n",
    "# %？ "
   ]
  },
  {
   "cell_type": "code",
   "execution_count": null,
   "metadata": {},
   "outputs": [],
   "source": [
    "# list 是python 内置的数据类型 "
   ]
  },
  {
   "cell_type": "code",
   "execution_count": null,
   "metadata": {},
   "outputs": [],
   "source": [
    "li=['banana','apple','food','milk']\n",
    "len(li)"
   ]
  },
  {
   "cell_type": "code",
   "execution_count": null,
   "metadata": {},
   "outputs": [],
   "source": [
    "li.append('yogurt')"
   ]
  },
  {
   "cell_type": "code",
   "execution_count": null,
   "metadata": {},
   "outputs": [],
   "source": [
    "li"
   ]
  },
  {
   "cell_type": "code",
   "execution_count": null,
   "metadata": {},
   "outputs": [],
   "source": [
    "\n"
   ]
  },
  {
   "cell_type": "code",
   "execution_count": null,
   "metadata": {},
   "outputs": [],
   "source": [
    "l=[]\n",
    "len(l)"
   ]
  },
  {
   "cell_type": "code",
   "execution_count": null,
   "metadata": {},
   "outputs": [],
   "source": [
    "# list 和 tuple 是python内置的序列集合类型，一个可变，一个不可变 \n",
    "# list []\n",
    "# tuple()\n",
    "# dict {key:value}\n",
    "# set （）\n",
    "enumerate()"
   ]
  },
  {
   "cell_type": "code",
   "execution_count": null,
   "metadata": {},
   "outputs": [],
   "source": [
    "L = ['Michael', 'Sarah', 'Tracy', 'Bob', 'Jack']"
   ]
  },
  {
   "cell_type": "code",
   "execution_count": null,
   "metadata": {},
   "outputs": [],
   "source": [
    "r=[]\n",
    "n=3\n",
    "for i in range(n):\n",
    "    r.append(L[i])\n",
    "print(r)"
   ]
  },
  {
   "cell_type": "code",
   "execution_count": null,
   "metadata": {},
   "outputs": [],
   "source": [
    "# slice the list \n",
    "L[0:3]"
   ]
  },
  {
   "cell_type": "code",
   "execution_count": null,
   "metadata": {},
   "outputs": [],
   "source": [
    "#-*- coding: utf-8 -*-\n",
    "\n"
   ]
  },
  {
   "cell_type": "code",
   "execution_count": null,
   "metadata": {},
   "outputs": [],
   "source": [
    "(85/72-1)*100%%"
   ]
  },
  {
   "cell_type": "code",
   "execution_count": null,
   "metadata": {},
   "outputs": [],
   "source": [
    "rate = 85/72-1\n",
    "rate1 = round(rate,0)\n",
    "print(rate1)\n",
    "turnover_rate = format(rate1, '.4%')\n",
    "print(turnover_rate)"
   ]
  },
  {
   "cell_type": "code",
   "execution_count": null,
   "metadata": {},
   "outputs": [],
   "source": [
    "format(r.iloc[0,-1], '.0%') --小数变成百分数  \n",
    "\n",
    "data[数据内容].apply(lambda x: format(x, '.2%'))  "
   ]
  },
  {
   "cell_type": "code",
   "execution_count": null,
   "metadata": {},
   "outputs": [],
   "source": [
    "import pandas as pd \n",
    "from pandas import Series, DataFrame"
   ]
  },
  {
   "cell_type": "code",
   "execution_count": null,
   "metadata": {},
   "outputs": [],
   "source": [
    "x=Series([1,2,3,4])"
   ]
  },
  {
   "cell_type": "code",
   "execution_count": null,
   "metadata": {},
   "outputs": [],
   "source": [
    "x"
   ]
  },
  {
   "cell_type": "code",
   "execution_count": null,
   "metadata": {},
   "outputs": [],
   "source": [
    "a=[]"
   ]
  },
  {
   "cell_type": "code",
   "execution_count": null,
   "metadata": {},
   "outputs": [],
   "source": [
    "3,"
   ]
  },
  {
   "cell_type": "code",
   "execution_count": null,
   "metadata": {},
   "outputs": [],
   "source": [
    "a"
   ]
  }
 ],
 "metadata": {
  "kernelspec": {
   "display_name": "Python 3",
   "language": "python",
   "name": "python3"
  },
  "language_info": {
   "codemirror_mode": {
    "name": "ipython",
    "version": 3
   },
   "file_extension": ".py",
   "mimetype": "text/x-python",
   "name": "python",
   "nbconvert_exporter": "python",
   "pygments_lexer": "ipython3",
   "version": "3.8.3"
  }
 },
 "nbformat": 4,
 "nbformat_minor": 4
}
